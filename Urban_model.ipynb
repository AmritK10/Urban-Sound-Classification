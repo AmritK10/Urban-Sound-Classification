{
 "cells": [
  {
   "cell_type": "code",
   "execution_count": 0,
   "metadata": {
    "colab": {},
    "colab_type": "code",
    "id": "Y3AZ44NR6I9H"
   },
   "outputs": [],
   "source": [
    "#extracting data from csv files into numpy arrays\n",
    "from numpy import genfromtxt\n",
    "x_train = genfromtxt('train_data.csv', delimiter=',')\n",
    "y_train = genfromtxt('train_labels.csv', delimiter=',')\n",
    "x_test = genfromtxt('test_data.csv', delimiter=',')\n",
    "y_test = genfromtxt('test_labels.csv', delimiter=',')"
   ]
  },
  {
   "cell_type": "code",
   "execution_count": 0,
   "metadata": {
    "colab": {
     "base_uri": "https://localhost:8080/",
     "height": 34
    },
    "colab_type": "code",
    "id": "x6bzJu5M6dn8",
    "outputId": "05cdbed7-ecef-4d87-b48c-6149cff4f865"
   },
   "outputs": [
    {
     "data": {
      "text/plain": [
       "((7895, 200), (837, 200), (7895, 10), (837, 10))"
      ]
     },
     "execution_count": 25,
     "metadata": {
      "tags": []
     },
     "output_type": "execute_result"
    }
   ],
   "source": [
    "#shape\n",
    "x_train.shape,x_test.shape,y_train.shape,y_test.shape"
   ]
  },
  {
   "cell_type": "code",
   "execution_count": 0,
   "metadata": {
    "colab": {
     "base_uri": "https://localhost:8080/",
     "height": 34
    },
    "colab_type": "code",
    "id": "Ct_4xrg59aOW",
    "outputId": "fb3f4888-f075-4317-8088-895f3ece361d"
   },
   "outputs": [
    {
     "data": {
      "text/plain": [
       "((7895, 10), (837, 10))"
      ]
     },
     "execution_count": 12,
     "metadata": {
      "tags": []
     },
     "output_type": "execute_result"
    }
   ],
   "source": [
    "from keras.utils.np_utils import to_categorical\n",
    "y_train = to_categorical(y_train, num_classes=10)\n",
    "y_test = to_categorical(y_test, num_classes=10)\n",
    "y_train.shape,y_test.shape"
   ]
  },
  {
   "cell_type": "code",
   "execution_count": 0,
   "metadata": {
    "colab": {},
    "colab_type": "code",
    "id": "Bj6Y44j1eKbe"
   },
   "outputs": [],
   "source": [
    "from keras import Sequential\n",
    "from keras.layers import Dense,Dropout,Activation"
   ]
  },
  {
   "cell_type": "code",
   "execution_count": 0,
   "metadata": {
    "colab": {},
    "colab_type": "code",
    "id": "0_oMRIfe8zt2"
   },
   "outputs": [],
   "source": [
    "#forming model\n",
    "model=Sequential()"
   ]
  },
  {
   "cell_type": "code",
   "execution_count": 0,
   "metadata": {
    "colab": {},
    "colab_type": "code",
    "id": "-kT9lQw583rR"
   },
   "outputs": [],
   "source": [
    "#building the model\n",
    "model.add(Dense(units=256,activation='relu',input_dim=200))\n",
    "model.add(Dropout(0.4))\n",
    "model.add(Dense(units=256,activation='relu'))\n",
    "model.add(Dropout(0.4))\n",
    "model.add(Dense(units=256,activation='relu'))\n",
    "model.add(Dropout(0.4))\n",
    "model.add(Dense(units=10,activation='softmax'))"
   ]
  },
  {
   "cell_type": "code",
   "execution_count": 0,
   "metadata": {
    "colab": {},
    "colab_type": "code",
    "id": "yVVhktq79Q30"
   },
   "outputs": [],
   "source": [
    "#compiling\n",
    "model.compile(optimizer='adam',loss='categorical_crossentropy',metrics=['accuracy'])"
   ]
  },
  {
   "cell_type": "code",
   "execution_count": 0,
   "metadata": {
    "colab": {
     "base_uri": "https://localhost:8080/",
     "height": 1091
    },
    "colab_type": "code",
    "id": "PJAmI2AU9XqL",
    "outputId": "87d73582-2c30-4da4-a1ea-1506ac65b3e8"
   },
   "outputs": [
    {
     "name": "stdout",
     "output_type": "stream",
     "text": [
      "Train on 7895 samples, validate on 837 samples\n",
      "Epoch 1/30\n",
      "7895/7895 [==============================] - 2s 219us/step - loss: 6.0850 - acc: 0.1947 - val_loss: 2.0476 - val_acc: 0.2832\n",
      "Epoch 2/30\n",
      "7895/7895 [==============================] - 1s 151us/step - loss: 2.0776 - acc: 0.3026 - val_loss: 1.8452 - val_acc: 0.4038\n",
      "Epoch 3/30\n",
      "7895/7895 [==============================] - 1s 157us/step - loss: 1.8177 - acc: 0.3864 - val_loss: 1.5894 - val_acc: 0.5030\n",
      "Epoch 4/30\n",
      "7895/7895 [==============================] - 1s 158us/step - loss: 1.5632 - acc: 0.4683 - val_loss: 1.5140 - val_acc: 0.4886\n",
      "Epoch 5/30\n",
      "7895/7895 [==============================] - 1s 157us/step - loss: 1.4148 - acc: 0.5319 - val_loss: 1.4639 - val_acc: 0.4875\n",
      "Epoch 6/30\n",
      "7895/7895 [==============================] - 1s 158us/step - loss: 1.2728 - acc: 0.5768 - val_loss: 1.4228 - val_acc: 0.5245\n",
      "Epoch 7/30\n",
      "7895/7895 [==============================] - 1s 157us/step - loss: 1.1825 - acc: 0.6139 - val_loss: 1.3508 - val_acc: 0.5651\n",
      "Epoch 8/30\n",
      "7895/7895 [==============================] - 1s 158us/step - loss: 1.0788 - acc: 0.6447 - val_loss: 1.3586 - val_acc: 0.5627\n",
      "Epoch 9/30\n",
      "7895/7895 [==============================] - 1s 158us/step - loss: 1.0280 - acc: 0.6650 - val_loss: 1.3139 - val_acc: 0.5699\n",
      "Epoch 10/30\n",
      "7895/7895 [==============================] - 1s 161us/step - loss: 0.9442 - acc: 0.6861 - val_loss: 1.2567 - val_acc: 0.5759\n",
      "Epoch 11/30\n",
      "7895/7895 [==============================] - 1s 162us/step - loss: 0.8649 - acc: 0.7145 - val_loss: 1.2121 - val_acc: 0.5759\n",
      "Epoch 12/30\n",
      "7895/7895 [==============================] - 1s 162us/step - loss: 0.8316 - acc: 0.7255 - val_loss: 1.2737 - val_acc: 0.5663\n",
      "Epoch 13/30\n",
      "7895/7895 [==============================] - 1s 164us/step - loss: 0.8036 - acc: 0.7396 - val_loss: 1.2197 - val_acc: 0.5986\n",
      "Epoch 14/30\n",
      "7895/7895 [==============================] - 1s 165us/step - loss: 0.7584 - acc: 0.7509 - val_loss: 1.2281 - val_acc: 0.6332\n",
      "Epoch 15/30\n",
      "7895/7895 [==============================] - 1s 163us/step - loss: 0.7228 - acc: 0.7716 - val_loss: 1.1737 - val_acc: 0.6344\n",
      "Epoch 16/30\n",
      "7895/7895 [==============================] - 1s 163us/step - loss: 0.6884 - acc: 0.7710 - val_loss: 1.1803 - val_acc: 0.6284\n",
      "Epoch 17/30\n",
      "7895/7895 [==============================] - 1s 160us/step - loss: 0.6767 - acc: 0.7848 - val_loss: 1.2041 - val_acc: 0.6320\n",
      "Epoch 18/30\n",
      "7895/7895 [==============================] - 1s 162us/step - loss: 0.6181 - acc: 0.7992 - val_loss: 1.1662 - val_acc: 0.6344\n",
      "Epoch 19/30\n",
      "7895/7895 [==============================] - 1s 165us/step - loss: 0.6324 - acc: 0.8000 - val_loss: 1.2726 - val_acc: 0.6308\n",
      "Epoch 20/30\n",
      "7895/7895 [==============================] - 1s 163us/step - loss: 0.6303 - acc: 0.7995 - val_loss: 1.1624 - val_acc: 0.6511\n",
      "Epoch 21/30\n",
      "7895/7895 [==============================] - 1s 163us/step - loss: 0.5766 - acc: 0.8106 - val_loss: 1.2226 - val_acc: 0.6392\n",
      "Epoch 22/30\n",
      "7895/7895 [==============================] - 1s 163us/step - loss: 0.5706 - acc: 0.8133 - val_loss: 1.1764 - val_acc: 0.6583\n",
      "Epoch 23/30\n",
      "7895/7895 [==============================] - 1s 164us/step - loss: 0.5548 - acc: 0.8181 - val_loss: 1.1830 - val_acc: 0.6344\n",
      "Epoch 24/30\n",
      "7895/7895 [==============================] - 1s 162us/step - loss: 0.5278 - acc: 0.8281 - val_loss: 1.2048 - val_acc: 0.6476\n",
      "Epoch 25/30\n",
      "7895/7895 [==============================] - 1s 163us/step - loss: 0.5141 - acc: 0.8361 - val_loss: 1.2200 - val_acc: 0.6619\n",
      "Epoch 26/30\n",
      "7895/7895 [==============================] - 1s 163us/step - loss: 0.5208 - acc: 0.8328 - val_loss: 1.2428 - val_acc: 0.6332\n",
      "Epoch 27/30\n",
      "7895/7895 [==============================] - 1s 166us/step - loss: 0.4855 - acc: 0.8488 - val_loss: 1.1402 - val_acc: 0.6535\n",
      "Epoch 28/30\n",
      "7895/7895 [==============================] - 1s 163us/step - loss: 0.4695 - acc: 0.8481 - val_loss: 1.2260 - val_acc: 0.6738\n",
      "Epoch 29/30\n",
      "7895/7895 [==============================] - 1s 166us/step - loss: 0.4868 - acc: 0.8459 - val_loss: 1.1607 - val_acc: 0.6499\n",
      "Epoch 30/30\n",
      "7895/7895 [==============================] - 1s 167us/step - loss: 0.4584 - acc: 0.8559 - val_loss: 1.1722 - val_acc: 0.6607\n"
     ]
    },
    {
     "data": {
      "text/plain": [
       "<keras.callbacks.History at 0x7fb5438ebd68>"
      ]
     },
     "execution_count": 36,
     "metadata": {
      "tags": []
     },
     "output_type": "execute_result"
    }
   ],
   "source": [
    "#fitting\n",
    "model.fit(x_train,y_train,epochs=30,validation_data=(x_test,y_test),batch_size=50)"
   ]
  },
  {
   "cell_type": "code",
   "execution_count": 0,
   "metadata": {
    "colab": {
     "base_uri": "https://localhost:8080/",
     "height": 85
    },
    "colab_type": "code",
    "id": "EngIWFCdATNP",
    "outputId": "d6a56036-3322-4f7f-a8d8-b1242df622f6"
   },
   "outputs": [
    {
     "name": "stdout",
     "output_type": "stream",
     "text": [
      "7895/7895 [==============================] - 0s 54us/step\n",
      "837/837 [==============================] - 0s 57us/step\n",
      "[0.2172957672190041, 0.9314756175398147]\n",
      "[1.17215280713716, 0.6606929510155317]\n"
     ]
    }
   ],
   "source": [
    "#train and test loss and scores respectively\n",
    "train_loss_score=model.evaluate(x_train,y_train)\n",
    "test_loss_score=model.evaluate(x_test,y_test)\n",
    "print(train_loss_score)\n",
    "print(test_loss_score)"
   ]
  }
 ],
 "metadata": {
  "accelerator": "GPU",
  "colab": {
   "collapsed_sections": [],
   "name": "Urban_model.ipynb",
   "provenance": [],
   "toc_visible": true,
   "version": "0.3.2"
  },
  "kernelspec": {
   "display_name": "Python 3",
   "language": "python",
   "name": "python3"
  },
  "language_info": {
   "codemirror_mode": {
    "name": "ipython",
    "version": 3
   },
   "file_extension": ".py",
   "mimetype": "text/x-python",
   "name": "python",
   "nbconvert_exporter": "python",
   "pygments_lexer": "ipython3",
   "version": "3.6.6"
  }
 },
 "nbformat": 4,
 "nbformat_minor": 1
}
