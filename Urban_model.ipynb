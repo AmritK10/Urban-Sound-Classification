{
 "cells": [
  {
   "cell_type": "code",
   "execution_count": 0,
   "metadata": {
    "colab": {},
    "colab_type": "code",
    "id": "Y3AZ44NR6I9H"
   },
   "outputs": [],
   "source": [
    "#extracting data from csv files into numpy arrays\n",
    "from numpy import genfromtxt\n",
    "x_train = genfromtxt('train_data.csv', delimiter=',')\n",
    "y_train = genfromtxt('train_labels.csv', delimiter=',')\n",
    "x_test = genfromtxt('test_data.csv', delimiter=',')\n",
    "y_test = genfromtxt('test_labels.csv', delimiter=',')"
   ]
  },
  {
   "cell_type": "code",
   "execution_count": 2,
   "metadata": {
    "colab": {
     "base_uri": "https://localhost:8080/",
     "height": 34
    },
    "colab_type": "code",
    "id": "x6bzJu5M6dn8",
    "outputId": "2e360be0-2665-47d4-cc23-c4144443fc9b"
   },
   "outputs": [
    {
     "data": {
      "text/plain": [
       "((7895, 40), (837, 40), (7895,), (837,))"
      ]
     },
     "execution_count": 2,
     "metadata": {
      "tags": []
     },
     "output_type": "execute_result"
    }
   ],
   "source": [
    "#shape\n",
    "x_train.shape,x_test.shape,y_train.shape,y_test.shape"
   ]
  },
  {
   "cell_type": "code",
   "execution_count": 3,
   "metadata": {
    "colab": {
     "base_uri": "https://localhost:8080/",
     "height": 34
    },
    "colab_type": "code",
    "id": "Ct_4xrg59aOW",
    "outputId": "f26b0e9e-58a9-4a2f-85f0-c3b8fe0d21f2"
   },
   "outputs": [
    {
     "name": "stderr",
     "output_type": "stream",
     "text": [
      "Using TensorFlow backend.\n"
     ]
    }
   ],
   "source": [
    "from keras.utils.np_utils import to_categorical\n",
    "y_train = to_categorical(y_train, num_classes=10)\n",
    "y_test = to_categorical(y_test, num_classes=10)"
   ]
  },
  {
   "cell_type": "code",
   "execution_count": 0,
   "metadata": {
    "colab": {},
    "colab_type": "code",
    "id": "Bj6Y44j1eKbe"
   },
   "outputs": [],
   "source": [
    "from keras import Sequential\n",
    "from keras.layers import Dense,Dropout,Activation"
   ]
  },
  {
   "cell_type": "code",
   "execution_count": 0,
   "metadata": {
    "colab": {},
    "colab_type": "code",
    "id": "0_oMRIfe8zt2"
   },
   "outputs": [],
   "source": [
    "#forming model\n",
    "model=Sequential()"
   ]
  },
  {
   "cell_type": "code",
   "execution_count": 0,
   "metadata": {
    "colab": {},
    "colab_type": "code",
    "id": "-kT9lQw583rR"
   },
   "outputs": [],
   "source": [
    "#building the model\n",
    "model.add(Dense(units=256,activation='relu',input_dim=40))\n",
    "model.add(Dropout(0.4))\n",
    "model.add(Dense(units=128,activation='relu'))\n",
    "model.add(Dropout(0.3))\n",
    "model.add(Dense(units=128,activation='relu'))\n",
    "model.add(Dropout(0.3))\n",
    "model.add(Dense(units=10,activation='softmax'))"
   ]
  },
  {
   "cell_type": "code",
   "execution_count": 0,
   "metadata": {
    "colab": {},
    "colab_type": "code",
    "id": "yVVhktq79Q30"
   },
   "outputs": [],
   "source": [
    "#compiling\n",
    "model.compile(optimizer='adam',loss='categorical_crossentropy',metrics=['accuracy'])"
   ]
  },
  {
   "cell_type": "code",
   "execution_count": 8,
   "metadata": {
    "colab": {
     "base_uri": "https://localhost:8080/",
     "height": 1091
    },
    "colab_type": "code",
    "id": "PJAmI2AU9XqL",
    "outputId": "7827cc20-f0c0-4d38-fef2-c5a880a62dee"
   },
   "outputs": [
    {
     "name": "stdout",
     "output_type": "stream",
     "text": [
      "Train on 7895 samples, validate on 837 samples\n",
      "Epoch 1/30\n",
      "7895/7895 [==============================] - 3s 410us/step - loss: 7.1222 - acc: 0.1777 - val_loss: 2.1639 - val_acc: 0.2258\n",
      "Epoch 2/30\n",
      "7895/7895 [==============================] - 1s 143us/step - loss: 2.3018 - acc: 0.2100 - val_loss: 2.0673 - val_acc: 0.2545\n",
      "Epoch 3/30\n",
      "7895/7895 [==============================] - 1s 146us/step - loss: 2.0526 - acc: 0.2719 - val_loss: 1.8598 - val_acc: 0.3501\n",
      "Epoch 4/30\n",
      "7895/7895 [==============================] - 1s 147us/step - loss: 1.9166 - acc: 0.3382 - val_loss: 1.7953 - val_acc: 0.3859\n",
      "Epoch 5/30\n",
      "7895/7895 [==============================] - 1s 147us/step - loss: 1.7448 - acc: 0.3956 - val_loss: 1.6907 - val_acc: 0.4743\n",
      "Epoch 6/30\n",
      "7895/7895 [==============================] - 1s 149us/step - loss: 1.6460 - acc: 0.4244 - val_loss: 1.6376 - val_acc: 0.4851\n",
      "Epoch 7/30\n",
      "7895/7895 [==============================] - 1s 148us/step - loss: 1.5301 - acc: 0.4687 - val_loss: 1.5822 - val_acc: 0.4827\n",
      "Epoch 8/30\n",
      "7895/7895 [==============================] - 1s 148us/step - loss: 1.4252 - acc: 0.5064 - val_loss: 1.5772 - val_acc: 0.4922\n",
      "Epoch 9/30\n",
      "7895/7895 [==============================] - 1s 149us/step - loss: 1.3342 - acc: 0.5468 - val_loss: 1.5775 - val_acc: 0.5484\n",
      "Epoch 10/30\n",
      "7895/7895 [==============================] - 1s 149us/step - loss: 1.2704 - acc: 0.5664 - val_loss: 1.5590 - val_acc: 0.5329\n",
      "Epoch 11/30\n",
      "7895/7895 [==============================] - 1s 149us/step - loss: 1.1880 - acc: 0.5951 - val_loss: 1.4705 - val_acc: 0.5424\n",
      "Epoch 12/30\n",
      "7895/7895 [==============================] - 1s 145us/step - loss: 1.1407 - acc: 0.6098 - val_loss: 1.5078 - val_acc: 0.5185\n",
      "Epoch 13/30\n",
      "7895/7895 [==============================] - 1s 149us/step - loss: 1.0900 - acc: 0.6314 - val_loss: 1.4555 - val_acc: 0.5436\n",
      "Epoch 14/30\n",
      "7895/7895 [==============================] - 1s 149us/step - loss: 1.0492 - acc: 0.6460 - val_loss: 1.4226 - val_acc: 0.5735\n",
      "Epoch 15/30\n",
      "7895/7895 [==============================] - 1s 146us/step - loss: 0.9917 - acc: 0.6704 - val_loss: 1.4051 - val_acc: 0.5783\n",
      "Epoch 16/30\n",
      "7895/7895 [==============================] - 1s 147us/step - loss: 0.9689 - acc: 0.6757 - val_loss: 1.5016 - val_acc: 0.5472\n",
      "Epoch 17/30\n",
      "7895/7895 [==============================] - 1s 147us/step - loss: 0.9154 - acc: 0.6963 - val_loss: 1.3650 - val_acc: 0.5866\n",
      "Epoch 18/30\n",
      "7895/7895 [==============================] - 1s 148us/step - loss: 0.8835 - acc: 0.7032 - val_loss: 1.4057 - val_acc: 0.5687\n",
      "Epoch 19/30\n",
      "7895/7895 [==============================] - 1s 147us/step - loss: 0.8470 - acc: 0.7218 - val_loss: 1.4515 - val_acc: 0.5245\n",
      "Epoch 20/30\n",
      "7895/7895 [==============================] - 1s 146us/step - loss: 0.8073 - acc: 0.7293 - val_loss: 1.3090 - val_acc: 0.5747\n",
      "Epoch 21/30\n",
      "7895/7895 [==============================] - 1s 148us/step - loss: 0.7882 - acc: 0.7348 - val_loss: 1.3545 - val_acc: 0.5627\n",
      "Epoch 22/30\n",
      "7895/7895 [==============================] - 1s 148us/step - loss: 0.7603 - acc: 0.7487 - val_loss: 1.4097 - val_acc: 0.5663\n",
      "Epoch 23/30\n",
      "7895/7895 [==============================] - 1s 154us/step - loss: 0.7364 - acc: 0.7548 - val_loss: 1.3695 - val_acc: 0.5627\n",
      "Epoch 24/30\n",
      "7895/7895 [==============================] - 1s 156us/step - loss: 0.7295 - acc: 0.7555 - val_loss: 1.3380 - val_acc: 0.5950\n",
      "Epoch 25/30\n",
      "7895/7895 [==============================] - 1s 151us/step - loss: 0.6958 - acc: 0.7671 - val_loss: 1.3285 - val_acc: 0.5974\n",
      "Epoch 26/30\n",
      "7895/7895 [==============================] - 1s 153us/step - loss: 0.6689 - acc: 0.7747 - val_loss: 1.3866 - val_acc: 0.5806\n",
      "Epoch 27/30\n",
      "7895/7895 [==============================] - 1s 154us/step - loss: 0.6592 - acc: 0.7775 - val_loss: 1.2867 - val_acc: 0.6237\n",
      "Epoch 28/30\n",
      "7895/7895 [==============================] - 1s 154us/step - loss: 0.6469 - acc: 0.7839 - val_loss: 1.3150 - val_acc: 0.6249\n",
      "Epoch 29/30\n",
      "7895/7895 [==============================] - 1s 154us/step - loss: 0.6199 - acc: 0.7946 - val_loss: 1.3410 - val_acc: 0.6022\n",
      "Epoch 30/30\n",
      "7895/7895 [==============================] - 1s 154us/step - loss: 0.6322 - acc: 0.7886 - val_loss: 1.3371 - val_acc: 0.6057\n"
     ]
    },
    {
     "data": {
      "text/plain": [
       "<keras.callbacks.History at 0x7f95e4a7a7f0>"
      ]
     },
     "execution_count": 8,
     "metadata": {
      "tags": []
     },
     "output_type": "execute_result"
    }
   ],
   "source": [
    "#fitting\n",
    "model.fit(x_train,y_train,epochs=30,validation_data=(x_test,y_test),batch_size=50)"
   ]
  },
  {
   "cell_type": "code",
   "execution_count": 12,
   "metadata": {
    "colab": {
     "base_uri": "https://localhost:8080/",
     "height": 85
    },
    "colab_type": "code",
    "id": "EngIWFCdATNP",
    "outputId": "61a409d6-e510-4c31-ac0b-b44b16d9db92"
   },
   "outputs": [
    {
     "name": "stdout",
     "output_type": "stream",
     "text": [
      "7895/7895 [==============================] - 0s 48us/step\n",
      "837/837 [==============================] - 0s 58us/step\n",
      "[0.38397226062632567, 0.8810639645647141]\n",
      "[1.3371444993264074, 0.6057347670428926]\n"
     ]
    }
   ],
   "source": [
    "#train and test loss and scores respectively\n",
    "train_loss_score=model.evaluate(x_train,y_train)\n",
    "test_loss_score=model.evaluate(x_test,y_test)\n",
    "print(train_loss_score)\n",
    "print(test_loss_score)"
   ]
  }
 ],
 "metadata": {
  "accelerator": "GPU",
  "colab": {
   "collapsed_sections": [],
   "name": "Urban_model.ipynb",
   "provenance": [],
   "toc_visible": true,
   "version": "0.3.2"
  },
  "kernelspec": {
   "display_name": "Python 3",
   "language": "python",
   "name": "python3"
  },
  "language_info": {
   "codemirror_mode": {
    "name": "ipython",
    "version": 3
   },
   "file_extension": ".py",
   "mimetype": "text/x-python",
   "name": "python",
   "nbconvert_exporter": "python",
   "pygments_lexer": "ipython3",
   "version": "3.6.6"
  }
 },
 "nbformat": 4,
 "nbformat_minor": 1
}
