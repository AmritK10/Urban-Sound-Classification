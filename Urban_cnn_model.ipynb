{
  "nbformat": 4,
  "nbformat_minor": 0,
  "metadata": {
    "colab": {
      "name": "Urban_cnn_model.ipynb",
      "version": "0.3.2",
      "provenance": [],
      "collapsed_sections": []
    },
    "kernelspec": {
      "name": "python3",
      "display_name": "Python 3"
    },
    "accelerator": "GPU"
  },
  "cells": [
    {
      "metadata": {
        "id": "tA_zGJTRf_gC",
        "colab_type": "code",
        "colab": {}
      },
      "cell_type": "code",
      "source": [
        "import numpy as np"
      ],
      "execution_count": 0,
      "outputs": []
    },
    {
      "metadata": {
        "id": "5uRr-bWZWzAD",
        "colab_type": "code",
        "colab": {}
      },
      "cell_type": "code",
      "source": [
        "#extracting data from csv files into numpy arrays\n",
        "from numpy import genfromtxt\n",
        "x_train = genfromtxt('train_data.csv', delimiter=',')\n",
        "y_train = genfromtxt('train_labels.csv', delimiter=',')\n",
        "x_test = genfromtxt('test_data.csv', delimiter=',')\n",
        "y_test = genfromtxt('test_labels.csv', delimiter=',')"
      ],
      "execution_count": 0,
      "outputs": []
    },
    {
      "metadata": {
        "id": "sUE1btJWW3bw",
        "colab_type": "code",
        "outputId": "f74bc8b1-fee5-4efd-b851-b2337f69afb9",
        "colab": {
          "base_uri": "https://localhost:8080/",
          "height": 34
        }
      },
      "cell_type": "code",
      "source": [
        "#shape\n",
        "x_train.shape,x_test.shape,y_train.shape,y_test.shape"
      ],
      "execution_count": 6,
      "outputs": [
        {
          "output_type": "execute_result",
          "data": {
            "text/plain": [
              "((7895, 200), (837, 200), (7895,), (837,))"
            ]
          },
          "metadata": {
            "tags": []
          },
          "execution_count": 6
        }
      ]
    },
    {
      "metadata": {
        "id": "UDbtZ-GaXEXS",
        "colab_type": "code",
        "outputId": "50df72f3-2b7e-45b7-ea23-80e5aaca1743",
        "colab": {
          "base_uri": "https://localhost:8080/",
          "height": 34
        }
      },
      "cell_type": "code",
      "source": [
        "#converting to one hot\n",
        "from keras.utils.np_utils import to_categorical\n",
        "y_train = to_categorical(y_train, num_classes=10)\n",
        "y_test = to_categorical(y_test, num_classes=10)\n",
        "y_train.shape,y_test.shape"
      ],
      "execution_count": 7,
      "outputs": [
        {
          "output_type": "execute_result",
          "data": {
            "text/plain": [
              "((7895, 10), (837, 10))"
            ]
          },
          "metadata": {
            "tags": []
          },
          "execution_count": 7
        }
      ]
    },
    {
      "metadata": {
        "id": "Q53NwQLeYJSf",
        "colab_type": "code",
        "outputId": "b4359c57-b041-4e06-e40f-c671eb33a882",
        "colab": {
          "base_uri": "https://localhost:8080/",
          "height": 34
        }
      },
      "cell_type": "code",
      "source": [
        "#reshaping to 2D \n",
        "x_train=np.reshape(x_train,(x_train.shape[0], 40,5))\n",
        "x_test=np.reshape(x_test,(x_test.shape[0], 40,5))\n",
        "x_train.shape,x_test.shape"
      ],
      "execution_count": 8,
      "outputs": [
        {
          "output_type": "execute_result",
          "data": {
            "text/plain": [
              "((7895, 40, 5), (837, 40, 5))"
            ]
          },
          "metadata": {
            "tags": []
          },
          "execution_count": 8
        }
      ]
    },
    {
      "metadata": {
        "id": "15K2y9sUgn_L",
        "colab_type": "code",
        "colab": {}
      },
      "cell_type": "code",
      "source": [
        "#reshaping to shape required by CNN\n",
        "x_train=np.reshape(x_train,(x_train.shape[0], 40,5,1))\n",
        "x_test=np.reshape(x_test,(x_test.shape[0], 40,5,1))"
      ],
      "execution_count": 0,
      "outputs": []
    },
    {
      "metadata": {
        "id": "CgeQAvcdgtwn",
        "colab_type": "code",
        "outputId": "fb3d635b-1da0-4c3d-f17f-50c9619cf9da",
        "colab": {
          "base_uri": "https://localhost:8080/",
          "height": 34
        }
      },
      "cell_type": "code",
      "source": [
        "#shapes\n",
        "x_train.shape,x_test.shape"
      ],
      "execution_count": 10,
      "outputs": [
        {
          "output_type": "execute_result",
          "data": {
            "text/plain": [
              "((7895, 40, 5, 1), (837, 40, 5, 1))"
            ]
          },
          "metadata": {
            "tags": []
          },
          "execution_count": 10
        }
      ]
    },
    {
      "metadata": {
        "id": "3bQ2gHc8f9n4",
        "colab_type": "code",
        "colab": {}
      },
      "cell_type": "code",
      "source": [
        "from keras import Sequential\n",
        "from keras.layers import Dense,Conv2D,MaxPooling2D,Flatten,Dropout"
      ],
      "execution_count": 0,
      "outputs": []
    },
    {
      "metadata": {
        "id": "SyjNa0N0gGlY",
        "colab_type": "code",
        "colab": {}
      },
      "cell_type": "code",
      "source": [
        "#forming model\n",
        "model=Sequential()"
      ],
      "execution_count": 0,
      "outputs": []
    },
    {
      "metadata": {
        "id": "fUJUiyVTgkGZ",
        "colab_type": "code",
        "colab": {}
      },
      "cell_type": "code",
      "source": [
        "#adding layers and forming the model\n",
        "model.add(Conv2D(64,kernel_size=5,strides=1,padding=\"Same\",activation=\"relu\",input_shape=(40,5,1)))\n",
        "model.add(MaxPooling2D(padding=\"same\"))\n",
        "\n",
        "model.add(Conv2D(128,kernel_size=5,strides=1,padding=\"same\",activation=\"relu\"))\n",
        "model.add(MaxPooling2D(padding=\"same\"))\n",
        "model.add(Dropout(0.3))\n",
        "\n",
        "model.add(Flatten())\n",
        "\n",
        "model.add(Dense(256,activation=\"relu\"))\n",
        "model.add(Dropout(0.3))\n",
        "\n",
        "model.add(Dense(512,activation=\"relu\"))\n",
        "model.add(Dropout(0.3))\n",
        "\n",
        "model.add(Dense(10,activation=\"softmax\"))"
      ],
      "execution_count": 0,
      "outputs": []
    },
    {
      "metadata": {
        "id": "ZHek_bnng3xp",
        "colab_type": "code",
        "colab": {}
      },
      "cell_type": "code",
      "source": [
        "#compiling\n",
        "model.compile(optimizer=\"adam\",loss=\"categorical_crossentropy\",metrics=[\"accuracy\"])"
      ],
      "execution_count": 0,
      "outputs": []
    },
    {
      "metadata": {
        "id": "Hc_E0cTog96t",
        "colab_type": "code",
        "outputId": "4fb76b2e-08bc-4a38-d574-79490df067f5",
        "colab": {
          "base_uri": "https://localhost:8080/",
          "height": 1091
        }
      },
      "cell_type": "code",
      "source": [
        "#training the model\n",
        "model.fit(x_train,y_train,batch_size=50,epochs=30,validation_data=(x_test,y_test))"
      ],
      "execution_count": 32,
      "outputs": [
        {
          "output_type": "stream",
          "text": [
            "Train on 7895 samples, validate on 837 samples\n",
            "Epoch 1/30\n",
            "7895/7895 [==============================] - 3s 362us/step - loss: 1.9866 - acc: 0.3094 - val_loss: 1.6002 - val_acc: 0.4815\n",
            "Epoch 2/30\n",
            "7895/7895 [==============================] - 2s 272us/step - loss: 1.3697 - acc: 0.5264 - val_loss: 1.2758 - val_acc: 0.6153\n",
            "Epoch 3/30\n",
            "7895/7895 [==============================] - 2s 270us/step - loss: 1.1334 - acc: 0.6168 - val_loss: 1.1462 - val_acc: 0.6440\n",
            "Epoch 4/30\n",
            "7895/7895 [==============================] - 2s 269us/step - loss: 0.9780 - acc: 0.6836 - val_loss: 1.1590 - val_acc: 0.6010\n",
            "Epoch 5/30\n",
            "7895/7895 [==============================] - 2s 267us/step - loss: 0.8257 - acc: 0.7260 - val_loss: 1.0252 - val_acc: 0.6416\n",
            "Epoch 6/30\n",
            "7895/7895 [==============================] - 2s 269us/step - loss: 0.7462 - acc: 0.7624 - val_loss: 1.1773 - val_acc: 0.6225\n",
            "Epoch 7/30\n",
            "7895/7895 [==============================] - 2s 265us/step - loss: 0.6821 - acc: 0.7809 - val_loss: 0.9101 - val_acc: 0.7133\n",
            "Epoch 8/30\n",
            "7895/7895 [==============================] - 2s 264us/step - loss: 0.5769 - acc: 0.8072 - val_loss: 1.0725 - val_acc: 0.6679\n",
            "Epoch 9/30\n",
            "7895/7895 [==============================] - 2s 266us/step - loss: 0.5858 - acc: 0.8127 - val_loss: 0.9900 - val_acc: 0.6953\n",
            "Epoch 10/30\n",
            "7895/7895 [==============================] - 2s 266us/step - loss: 0.5154 - acc: 0.8337 - val_loss: 0.9151 - val_acc: 0.7240\n",
            "Epoch 11/30\n",
            "7895/7895 [==============================] - 2s 265us/step - loss: 0.4628 - acc: 0.8476 - val_loss: 0.9999 - val_acc: 0.6726\n",
            "Epoch 12/30\n",
            "7895/7895 [==============================] - 2s 267us/step - loss: 0.4619 - acc: 0.8488 - val_loss: 0.9600 - val_acc: 0.7133\n",
            "Epoch 13/30\n",
            "7895/7895 [==============================] - 2s 263us/step - loss: 0.4255 - acc: 0.8636 - val_loss: 0.9960 - val_acc: 0.6882\n",
            "Epoch 14/30\n",
            "7895/7895 [==============================] - 2s 266us/step - loss: 0.3991 - acc: 0.8704 - val_loss: 0.9919 - val_acc: 0.7228\n",
            "Epoch 15/30\n",
            "7895/7895 [==============================] - 2s 267us/step - loss: 0.4361 - acc: 0.8598 - val_loss: 1.0897 - val_acc: 0.6667\n",
            "Epoch 16/30\n",
            "7895/7895 [==============================] - 2s 265us/step - loss: 0.3626 - acc: 0.8816 - val_loss: 0.9995 - val_acc: 0.6822\n",
            "Epoch 17/30\n",
            "7895/7895 [==============================] - 2s 264us/step - loss: 0.3557 - acc: 0.8902 - val_loss: 0.9165 - val_acc: 0.7157\n",
            "Epoch 18/30\n",
            "7895/7895 [==============================] - 2s 266us/step - loss: 0.3274 - acc: 0.8911 - val_loss: 0.9811 - val_acc: 0.7133\n",
            "Epoch 19/30\n",
            "7895/7895 [==============================] - 2s 267us/step - loss: 0.3695 - acc: 0.8830 - val_loss: 1.0234 - val_acc: 0.7204\n",
            "Epoch 20/30\n",
            "7895/7895 [==============================] - 2s 268us/step - loss: 0.3173 - acc: 0.9006 - val_loss: 1.1089 - val_acc: 0.6882\n",
            "Epoch 21/30\n",
            "7895/7895 [==============================] - 2s 264us/step - loss: 0.3267 - acc: 0.8955 - val_loss: 1.0589 - val_acc: 0.7288\n",
            "Epoch 22/30\n",
            "7895/7895 [==============================] - 2s 265us/step - loss: 0.3117 - acc: 0.8951 - val_loss: 1.1435 - val_acc: 0.7145\n",
            "Epoch 23/30\n",
            "7895/7895 [==============================] - 2s 264us/step - loss: 0.2732 - acc: 0.9082 - val_loss: 1.1515 - val_acc: 0.6989\n",
            "Epoch 24/30\n",
            "7895/7895 [==============================] - 2s 263us/step - loss: 0.2590 - acc: 0.9164 - val_loss: 1.3535 - val_acc: 0.6822\n",
            "Epoch 25/30\n",
            "7895/7895 [==============================] - 2s 266us/step - loss: 0.2777 - acc: 0.9103 - val_loss: 1.1168 - val_acc: 0.7037\n",
            "Epoch 26/30\n",
            "7895/7895 [==============================] - 2s 264us/step - loss: 0.2352 - acc: 0.9205 - val_loss: 1.1458 - val_acc: 0.7013\n",
            "Epoch 27/30\n",
            "7895/7895 [==============================] - 2s 266us/step - loss: 0.2446 - acc: 0.9193 - val_loss: 1.1310 - val_acc: 0.6965\n",
            "Epoch 28/30\n",
            "7895/7895 [==============================] - 2s 266us/step - loss: 0.3041 - acc: 0.9092 - val_loss: 1.0149 - val_acc: 0.7264\n",
            "Epoch 29/30\n",
            "7895/7895 [==============================] - 2s 264us/step - loss: 0.2387 - acc: 0.9216 - val_loss: 1.0509 - val_acc: 0.7372\n",
            "Epoch 30/30\n",
            "7895/7895 [==============================] - 2s 266us/step - loss: 0.2295 - acc: 0.9249 - val_loss: 1.1439 - val_acc: 0.7312\n"
          ],
          "name": "stdout"
        },
        {
          "output_type": "execute_result",
          "data": {
            "text/plain": [
              "<keras.callbacks.History at 0x7f64c7459f60>"
            ]
          },
          "metadata": {
            "tags": []
          },
          "execution_count": 32
        }
      ]
    },
    {
      "metadata": {
        "id": "N1Rp9FTYhBpZ",
        "colab_type": "code",
        "outputId": "8ac2e5be-314a-4284-ea31-ddbfeda1d4de",
        "colab": {
          "base_uri": "https://localhost:8080/",
          "height": 85
        }
      },
      "cell_type": "code",
      "source": [
        "#train and test loss and scores respectively\n",
        "train_loss_score=model.evaluate(x_train,y_train)\n",
        "test_loss_score=model.evaluate(x_test,y_test)\n",
        "print(train_loss_score)\n",
        "print(test_loss_score)"
      ],
      "execution_count": 34,
      "outputs": [
        {
          "output_type": "stream",
          "text": [
            "7895/7895 [==============================] - 1s 106us/step\n",
            "837/837 [==============================] - 0s 109us/step\n",
            "[0.1351362865992625, 0.9590880303159404]\n",
            "[1.1439061515064401, 0.7311827956989247]\n"
          ],
          "name": "stdout"
        }
      ]
    }
  ]
}